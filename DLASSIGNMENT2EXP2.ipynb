{
  "nbformat": 4,
  "nbformat_minor": 0,
  "metadata": {
    "colab": {
      "provenance": [],
      "authorship_tag": "ABX9TyNlcXxGs6usZGt3qXeuXo3U",
      "include_colab_link": true
    },
    "kernelspec": {
      "name": "python3",
      "display_name": "Python 3"
    },
    "language_info": {
      "name": "python"
    }
  },
  "cells": [
    {
      "cell_type": "markdown",
      "metadata": {
        "id": "view-in-github",
        "colab_type": "text"
      },
      "source": [
        "<a href=\"https://colab.research.google.com/github/KaranamSrivatsa/DLASSIGNMENT2/blob/main/DLASSIGNMENT2EXP2.ipynb\" target=\"_parent\"><img src=\"https://colab.research.google.com/assets/colab-badge.svg\" alt=\"Open In Colab\"/></a>"
      ]
    },
    {
      "cell_type": "code",
      "source": [
        "# ✅ Step 1: Install Transformers Library\n",
        "!pip install transformers --quiet\n",
        "\n",
        "# ✅ Step 2: Import Required Libraries\n",
        "from transformers import GPT2LMHeadModel, GPT2Tokenizer\n",
        "import torch\n",
        "\n",
        "# ✅ Step 3: Load Pretrained GPT-2 Model and Tokenizer\n",
        "model_name = \"gpt2\"  # You can also use 'gpt2-medium' or 'gpt2-large'\n",
        "tokenizer = GPT2Tokenizer.from_pretrained(model_name)\n",
        "model = GPT2LMHeadModel.from_pretrained(model_name)\n",
        "model.eval()  # Set to evaluation mode\n",
        "\n",
        "# ✅ Step 4: Define a Prompt to Begin the Lyrics\n",
        "prompt = \"When the stars light up the sky, I feel\"  # <-- Customize this\n",
        "\n",
        "# ✅ Step 5: Encode and Generate Lyrics\n",
        "input_ids = tokenizer.encode(prompt, return_tensors=\"pt\")\n",
        "\n",
        "# Faster generation settings (light sampling)\n",
        "output = model.generate(\n",
        "    input_ids,\n",
        "    max_length=80,              # Limit output length\n",
        "    temperature=0.8,            # Creativity level (lower = more conservative)\n",
        "    top_k=50,\n",
        "    top_p=0.95,\n",
        "    do_sample=True,\n",
        "    num_return_sequences=1\n",
        ")\n",
        "\n",
        "# ✅ Step 6: Decode and Print the Output\n",
        "generated_lyrics = tokenizer.decode(output[0], skip_special_tokens=True)\n",
        "print(\"\\n🎵 Generated Lyrics:\\n\")\n",
        "print(generated_lyrics)"
      ],
      "metadata": {
        "colab": {
          "base_uri": "https://localhost:8080/"
        },
        "id": "D-y_eanqnu1M",
        "outputId": "cbb064c7-96a4-4fe4-e2f5-01bbf0de5ffb"
      },
      "execution_count": 3,
      "outputs": [
        {
          "output_type": "stream",
          "name": "stderr",
          "text": [
            "The attention mask and the pad token id were not set. As a consequence, you may observe unexpected behavior. Please pass your input's `attention_mask` to obtain reliable results.\n",
            "Setting `pad_token_id` to `eos_token_id`:50256 for open-end generation.\n"
          ]
        },
        {
          "output_type": "stream",
          "name": "stdout",
          "text": [
            "\n",
            "🎵 Generated Lyrics:\n",
            "\n",
            "When the stars light up the sky, I feel a surge of energy. It's like I'm on the verge of a revolution. I'm in a big city, my life's work has been done. It's not like I'm in a hurry, I'm just in a hurry, I'm really excited. I think it's one of those things that people are just waiting for.\n",
            "\n"
          ]
        }
      ]
    }
  ]
}